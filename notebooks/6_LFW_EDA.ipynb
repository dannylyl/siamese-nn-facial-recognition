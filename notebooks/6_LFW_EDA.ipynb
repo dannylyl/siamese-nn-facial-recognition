{
 "cells": [
  {
   "cell_type": "markdown",
   "metadata": {},
   "source": [
    "# LFW Dataset EDA\n",
    "\n",
    "In order to perform effective data preprocessing and model training, a further understanding of the LFW dataset will have to be attained. This could be simple things like checking the amount of images, the number of unique people, amount of similar images etc.\n",
    "\n",
    "This issue and notebook will not go into the details of how the network gets to the point to compare the images as that will be covered in a future issue, possibly the one where the model is written(?).\n",
    "\n"
   ]
  },
  {
   "cell_type": "markdown",
   "metadata": {},
   "source": [
    "## 1. Imports"
   ]
  },
  {
   "cell_type": "code",
   "execution_count": 85,
   "metadata": {},
   "outputs": [],
   "source": [
    "import os\n",
    "from sklearn.model_selection import train_test_split\n",
    "import pandas as pd\n",
    "import matplotlib.pyplot as plt"
   ]
  },
  {
   "cell_type": "markdown",
   "metadata": {},
   "source": [
    "## 2. Organising Images into Pandas DF for Analysis"
   ]
  },
  {
   "cell_type": "markdown",
   "metadata": {},
   "source": [
    "The LFW dataset is conveniently organised in folders, each named with the name of the person whose image resides in the folder. Some of these folders contain multiple images, which we can use to form positive pairs, while some only contain single images, which we'll definitely have to use as negatives.\n",
    "\n",
    "Let's organise the images into a pandas dataframe for easier analysis for further steps."
   ]
  },
  {
   "cell_type": "code",
   "execution_count": 86,
   "metadata": {},
   "outputs": [],
   "source": [
    "data_dir = '../data/lfw-deepfunneled/lfw-deepfunneled'\n",
    "\n",
    "data = []\n",
    "\n",
    "for person in os.listdir(data_dir):\n",
    "    person_dir = os.path.join(data_dir, person)\n",
    "    if os.path.isdir(person_dir):\n",
    "        for image in os.listdir(person_dir):\n",
    "            data.append((os.path.join(person_dir, image), person))\n",
    "            \n",
    "df = pd.DataFrame(data, columns=['image_path', 'person'])"
   ]
  },
  {
   "cell_type": "code",
   "execution_count": 87,
   "metadata": {},
   "outputs": [
    {
     "data": {
      "text/html": [
       "<div>\n",
       "<style scoped>\n",
       "    .dataframe tbody tr th:only-of-type {\n",
       "        vertical-align: middle;\n",
       "    }\n",
       "\n",
       "    .dataframe tbody tr th {\n",
       "        vertical-align: top;\n",
       "    }\n",
       "\n",
       "    .dataframe thead th {\n",
       "        text-align: right;\n",
       "    }\n",
       "</style>\n",
       "<table border=\"1\" class=\"dataframe\">\n",
       "  <thead>\n",
       "    <tr style=\"text-align: right;\">\n",
       "      <th></th>\n",
       "      <th>image_path</th>\n",
       "      <th>person</th>\n",
       "    </tr>\n",
       "  </thead>\n",
       "  <tbody>\n",
       "    <tr>\n",
       "      <th>0</th>\n",
       "      <td>../data/lfw-deepfunneled/lfw-deepfunneled/Alic...</td>\n",
       "      <td>Alice_Fisher</td>\n",
       "    </tr>\n",
       "    <tr>\n",
       "      <th>1</th>\n",
       "      <td>../data/lfw-deepfunneled/lfw-deepfunneled/Alic...</td>\n",
       "      <td>Alice_Fisher</td>\n",
       "    </tr>\n",
       "    <tr>\n",
       "      <th>2</th>\n",
       "      <td>../data/lfw-deepfunneled/lfw-deepfunneled/Elle...</td>\n",
       "      <td>Ellen_Barkin</td>\n",
       "    </tr>\n",
       "    <tr>\n",
       "      <th>3</th>\n",
       "      <td>../data/lfw-deepfunneled/lfw-deepfunneled/Quee...</td>\n",
       "      <td>Queen_Latifah</td>\n",
       "    </tr>\n",
       "    <tr>\n",
       "      <th>4</th>\n",
       "      <td>../data/lfw-deepfunneled/lfw-deepfunneled/Quee...</td>\n",
       "      <td>Queen_Latifah</td>\n",
       "    </tr>\n",
       "  </tbody>\n",
       "</table>\n",
       "</div>"
      ],
      "text/plain": [
       "                                          image_path         person\n",
       "0  ../data/lfw-deepfunneled/lfw-deepfunneled/Alic...   Alice_Fisher\n",
       "1  ../data/lfw-deepfunneled/lfw-deepfunneled/Alic...   Alice_Fisher\n",
       "2  ../data/lfw-deepfunneled/lfw-deepfunneled/Elle...   Ellen_Barkin\n",
       "3  ../data/lfw-deepfunneled/lfw-deepfunneled/Quee...  Queen_Latifah\n",
       "4  ../data/lfw-deepfunneled/lfw-deepfunneled/Quee...  Queen_Latifah"
      ]
     },
     "execution_count": 87,
     "metadata": {},
     "output_type": "execute_result"
    }
   ],
   "source": [
    "df.head()"
   ]
  },
  {
   "cell_type": "markdown",
   "metadata": {},
   "source": [
    "Now that we have a dataframe of the images along with the person the images are of, we essentially have all the information we need to perform basic analysis."
   ]
  },
  {
   "cell_type": "markdown",
   "metadata": {},
   "source": [
    "## 3. Basic Analysis"
   ]
  },
  {
   "cell_type": "markdown",
   "metadata": {},
   "source": [
    "#### a. Checking the total number of images and number of people we have in the dataset"
   ]
  },
  {
   "cell_type": "code",
   "execution_count": 88,
   "metadata": {},
   "outputs": [
    {
     "name": "stdout",
     "output_type": "stream",
     "text": [
      "Total number of images in dataset: 13233, number of unique persons: 5749\n"
     ]
    }
   ],
   "source": [
    "print(f'Total number of images in dataset: {len(df)}, number of unique persons: {df.person.nunique()}')"
   ]
  },
  {
   "cell_type": "markdown",
   "metadata": {},
   "source": [
    "#### b. Checking the total number of images of a same person, and how many people have more than one image"
   ]
  },
  {
   "cell_type": "code",
   "execution_count": 89,
   "metadata": {},
   "outputs": [],
   "source": [
    "for person in df['person'].unique():\n",
    "    person_images = df[df['person'] == person]\n",
    "    if len(person_images) > 1:\n",
    "        df.loc[df['person'] == person, 'multiple_images'] = True\n",
    "    else:\n",
    "        df.loc[df['person'] == person, 'multiple_images'] = False\n",
    "        "
   ]
  },
  {
   "cell_type": "code",
   "execution_count": 90,
   "metadata": {},
   "outputs": [
    {
     "data": {
      "text/html": [
       "<div>\n",
       "<style scoped>\n",
       "    .dataframe tbody tr th:only-of-type {\n",
       "        vertical-align: middle;\n",
       "    }\n",
       "\n",
       "    .dataframe tbody tr th {\n",
       "        vertical-align: top;\n",
       "    }\n",
       "\n",
       "    .dataframe thead th {\n",
       "        text-align: right;\n",
       "    }\n",
       "</style>\n",
       "<table border=\"1\" class=\"dataframe\">\n",
       "  <thead>\n",
       "    <tr style=\"text-align: right;\">\n",
       "      <th></th>\n",
       "      <th>image_path</th>\n",
       "      <th>person</th>\n",
       "      <th>multiple_images</th>\n",
       "    </tr>\n",
       "  </thead>\n",
       "  <tbody>\n",
       "    <tr>\n",
       "      <th>0</th>\n",
       "      <td>../data/lfw-deepfunneled/lfw-deepfunneled/Alic...</td>\n",
       "      <td>Alice_Fisher</td>\n",
       "      <td>True</td>\n",
       "    </tr>\n",
       "    <tr>\n",
       "      <th>1</th>\n",
       "      <td>../data/lfw-deepfunneled/lfw-deepfunneled/Alic...</td>\n",
       "      <td>Alice_Fisher</td>\n",
       "      <td>True</td>\n",
       "    </tr>\n",
       "    <tr>\n",
       "      <th>2</th>\n",
       "      <td>../data/lfw-deepfunneled/lfw-deepfunneled/Elle...</td>\n",
       "      <td>Ellen_Barkin</td>\n",
       "      <td>False</td>\n",
       "    </tr>\n",
       "    <tr>\n",
       "      <th>3</th>\n",
       "      <td>../data/lfw-deepfunneled/lfw-deepfunneled/Quee...</td>\n",
       "      <td>Queen_Latifah</td>\n",
       "      <td>True</td>\n",
       "    </tr>\n",
       "    <tr>\n",
       "      <th>4</th>\n",
       "      <td>../data/lfw-deepfunneled/lfw-deepfunneled/Quee...</td>\n",
       "      <td>Queen_Latifah</td>\n",
       "      <td>True</td>\n",
       "    </tr>\n",
       "  </tbody>\n",
       "</table>\n",
       "</div>"
      ],
      "text/plain": [
       "                                          image_path         person  \\\n",
       "0  ../data/lfw-deepfunneled/lfw-deepfunneled/Alic...   Alice_Fisher   \n",
       "1  ../data/lfw-deepfunneled/lfw-deepfunneled/Alic...   Alice_Fisher   \n",
       "2  ../data/lfw-deepfunneled/lfw-deepfunneled/Elle...   Ellen_Barkin   \n",
       "3  ../data/lfw-deepfunneled/lfw-deepfunneled/Quee...  Queen_Latifah   \n",
       "4  ../data/lfw-deepfunneled/lfw-deepfunneled/Quee...  Queen_Latifah   \n",
       "\n",
       "  multiple_images  \n",
       "0            True  \n",
       "1            True  \n",
       "2           False  \n",
       "3            True  \n",
       "4            True  "
      ]
     },
     "execution_count": 90,
     "metadata": {},
     "output_type": "execute_result"
    }
   ],
   "source": [
    "df.head()"
   ]
  },
  {
   "cell_type": "code",
   "execution_count": 91,
   "metadata": {},
   "outputs": [
    {
     "name": "stdout",
     "output_type": "stream",
     "text": [
      "Number of images that are of a same individual: 9164\n",
      "Number of people with multiple images: 1680\n"
     ]
    }
   ],
   "source": [
    "print(f'Number of images that are of a same individual: {len(df[df.multiple_images == True])}')\n",
    "print(f'Number of people with multiple images: {df[df.multiple_images == True].person.nunique()}')"
   ]
  },
  {
   "cell_type": "markdown",
   "metadata": {},
   "source": [
    "#### c. Range of Number of Multiple Images Per Person"
   ]
  },
  {
   "cell_type": "code",
   "execution_count": 92,
   "metadata": {},
   "outputs": [
    {
     "data": {
      "text/plain": [
       "person\n",
       "George_W_Bush        530\n",
       "Colin_Powell         236\n",
       "Tony_Blair           144\n",
       "Donald_Rumsfeld      121\n",
       "Gerhard_Schroeder    109\n",
       "Name: count, dtype: int64"
      ]
     },
     "execution_count": 92,
     "metadata": {},
     "output_type": "execute_result"
    }
   ],
   "source": [
    "multiple_df = df[df.multiple_images == True]\n",
    "multiple_df['person'].value_counts().head()"
   ]
  },
  {
   "cell_type": "markdown",
   "metadata": {},
   "source": [
    "Wow, that's a lot of photos of George W Bush. How about the lower end?"
   ]
  },
  {
   "cell_type": "code",
   "execution_count": 93,
   "metadata": {},
   "outputs": [
    {
     "data": {
      "text/plain": [
       "person\n",
       "Edie_Falco              2\n",
       "Maria_Luisa_Mendonca    2\n",
       "Alan_Mulally            2\n",
       "Claire_Hentzen          2\n",
       "Kurt_Russell            2\n",
       "                       ..\n",
       "Richard_Branson         2\n",
       "Fran_Drescher           2\n",
       "Mikhail_Gorbachev       2\n",
       "S_Jayakumar             2\n",
       "James_Ivory             2\n",
       "Name: count, Length: 700, dtype: int64"
      ]
     },
     "execution_count": 93,
     "metadata": {},
     "output_type": "execute_result"
    }
   ],
   "source": [
    "multiple_df['person'].value_counts().tail(700)"
   ]
  },
  {
   "cell_type": "markdown",
   "metadata": {},
   "source": [
    "We have a lot of people with only 2 images, so naturally the dataset is imbalanced in this way. Though this might not be the worst thing. More insights below."
   ]
  },
  {
   "cell_type": "markdown",
   "metadata": {},
   "source": [
    "## 4. Quick Visualisations"
   ]
  },
  {
   "cell_type": "code",
   "execution_count": 94,
   "metadata": {},
   "outputs": [
    {
     "data": {
      "image/png": "[encoded data removed]",
      "text/plain": [
       "<Figure size 640x480 with 1 Axes>"
      ]
     },
     "metadata": {},
     "output_type": "display_data"
    }
   ],
   "source": [
    "df['multiple_images'].value_counts().plot(kind='bar')\n",
    "plt.ylabel('Count')\n",
    "plt.title('Histogram of Images of a Same Individual')\n",
    "plt.show()"
   ]
  },
  {
   "cell_type": "code",
   "execution_count": 95,
   "metadata": {},
   "outputs": [
    {
     "data": {
      "image/png": "[encoded data removed]",
      "text/plain": [
       "<Figure size 640x480 with 1 Axes>"
      ]
     },
     "metadata": {},
     "output_type": "display_data"
    }
   ],
   "source": [
    "check_multi = df.drop_duplicates(subset='person', keep='first')\n",
    "value_counts = check_multi['multiple_images'].value_counts()\n",
    "value_counts = value_counts.reindex([True, False])\n",
    "value_counts.plot(kind='bar')\n",
    "plt.ylabel('Count')\n",
    "plt.title('Histogram of People with Multiple Images')\n",
    "plt.show()"
   ]
  },
  {
   "cell_type": "markdown",
   "metadata": {},
   "source": [
    "# Conclusion\n",
    "As mentioned before, we do have an imbalanced dataset in terms of number of people with multiple images, and also the number of images that are of a same individual against those of only one person. \n",
    "\n",
    "However, since our model is going to be trained on similar / dissimilar pairs, maybe we can write our data processing to take pairs in such a way that we can balance our dataset. For example, we can make many permuations of dissimilar pairs easily, increasing the number of dissimilar pairs that way."
   ]
  },
  {
   "cell_type": "markdown",
   "metadata": {},
   "source": []
  }
 ],
 "metadata": {
  "kernelspec": {
   "display_name": "siamese-nn",
   "language": "python",
   "name": "python3"
  },
  "language_info": {
   "codemirror_mode": {
    "name": "ipython",
    "version": 3
   },
   "file_extension": ".py",
   "mimetype": "text/x-python",
   "name": "python",
   "nbconvert_exporter": "python",
   "pygments_lexer": "ipython3",
   "version": "3.11.9"
  }
 },
 "nbformat": 4,
 "nbformat_minor": 2
}
